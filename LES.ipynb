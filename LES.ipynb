{
 "cells": [
  {
   "cell_type": "code",
   "execution_count": null,
   "metadata": {},
   "outputs": [],
   "source": [
    "%load_ext autoreload\n",
    "%autoreload 2\n",
    "%matplotlib widget\n",
    "\n",
    "import pandas as pd\n",
    "from energyPlus.weather.weather import plotCZMap\n",
    "import numpy as np"
   ]
  },
  {
   "cell_type": "code",
   "execution_count": null,
   "metadata": {},
   "outputs": [],
   "source": [
    "dfFull = pd.read_csv('dfFull.csv')\n",
    "flowStatsMI = pd.read_csv('LES/flowStatsMI.csv')\n",
    "roomVentilationMI = pd.read_csv('LES/roomVentilationMI.csv')"
   ]
  },
  {
   "cell_type": "code",
   "execution_count": null,
   "metadata": {},
   "outputs": [],
   "source": [
    "def snapToAngle(angle, snapAngle):\n",
    "    return snapAngle * round(angle / snapAngle)"
   ]
  },
  {
   "cell_type": "code",
   "execution_count": null,
   "metadata": {},
   "outputs": [],
   "source": [
    "dfFull['WDVent'] = dfFull['WDVent'].apply(lambda x: snapToAngle(x, 45))\n",
    "# dfFull['WSTVent'] = dfFull['TintMinusTref']* dfFull['WSVent'] # Now written in the csv\n",
    "\n",
    "counts = dfFull.groupby([\"Climate Zone\", \"WDVent\"])[\"WSVent\"].sum() / dfFull.groupby([\"Climate Zone\", \"WDVent\"])[\"WSVent\"].mean()\n",
    "qoi = 'WSTVent'\n",
    "# qoi = 'WSVent'\n",
    "WDZones = dfFull.groupby([\"Climate Zone\", \"nVent\", \"WDVent\"])[qoi].sum()\n",
    "# WDZones *= 1 / dfFull.shape[0]\n",
    "WDZones"
   ]
  },
  {
   "cell_type": "code",
   "execution_count": null,
   "metadata": {},
   "outputs": [],
   "source": [
    "groups = [\"roomType\", \"delT\", \"AofA\"]\n",
    "dfLES = roomVentilationMI.groupby(groups)[\"mean-sn_prod(abs(u))-Norm\"].mean()\n",
    "dfLESHouse = roomVentilationMI.groupby([\"delT\", \"AofA\"])[\"mean-sn_prod(abs(u))-Norm\"].mean()\n",
    "# dfLES.loc[:,:] = 1"
   ]
  },
  {
   "cell_type": "code",
   "execution_count": null,
   "metadata": {},
   "outputs": [],
   "source": [
    "def getOptimalAlignment(bee: pd.Series, rose:pd.Series, allowFlip=True):\n",
    "    AResolution = 45\n",
    "    AOptimal = 0\n",
    "    maxIntegral = 0\n",
    "    if allowFlip:\n",
    "        flips = [1, -1]\n",
    "    else:\n",
    "        flips = [1]\n",
    "    for A in range(0, 360, AResolution):\n",
    "        for flip in flips:\n",
    "            beeCopy = bee.copy()\n",
    "            roseCopy = rose.copy()\n",
    "            roseCopy.index = (360 + flip * roseCopy.index) % 360\n",
    "            beeCopy.index = (beeCopy.index + A) % 360\n",
    "            integral = (beeCopy[roseCopy.index] * roseCopy).sum()\n",
    "            if integral > maxIntegral:\n",
    "                maxIntegral = integral\n",
    "                if A == 0:\n",
    "                    A = 360\n",
    "                AOptimal = A * flip\n",
    "    return AOptimal, maxIntegral\n",
    "\n",
    "getOptimalAlignment(dfLES[(\"corner\", 0)], WDZones[(13, 0)], allowFlip=True)"
   ]
  },
  {
   "cell_type": "code",
   "execution_count": null,
   "metadata": {},
   "outputs": [],
   "source": [
    "optimalVent = {}\n",
    "optimalVentHouse = {}\n",
    "for delT in dfLES.index.levels[1].values:\n",
    "    nVent = int(delT == 5)\n",
    "    for zone in WDZones.index.levels[0].values:\n",
    "        optimalVentHouse[(delT, zone)] = getOptimalAlignment(dfLESHouse[delT], WDZones[(zone, nVent)])\n",
    "        for room in dfLES.index.levels[0].values:\n",
    "            optimalVent[(room, delT, zone)] = getOptimalAlignment(dfLES[(room, delT)], WDZones[(zone, nVent)])\n",
    "\n",
    "optimalVent = pd.DataFrame(optimalVent).T\n",
    "optimalVentHouse = pd.DataFrame(optimalVentHouse).T\n",
    "for optV in [optimalVent, optimalVentHouse]:\n",
    "    optV.columns = [\"A\", \"ventAverage\"]\n",
    "    optV[\"Total Days\"] = dfFull[\"Total Days\"][0] #normalizing for plotting purposes\n",
    "optimalVent.index.names = [\"roomType\", \"delT\", \"Climate Zone\"]\n",
    "optimalVentHouse.index.names = [\"delT\", \"Climate Zone\"]\n",
    "display(optimalVent)\n",
    "display(optimalVentHouse)"
   ]
  },
  {
   "cell_type": "code",
   "execution_count": null,
   "metadata": {},
   "outputs": [],
   "source": [
    "delT = 0\n",
    "roomAndTVentAll = pd.DataFrame()\n",
    "for i, room in enumerate(optimalVent.index.levels[0].values):\n",
    "    print(room)\n",
    "    roomAndTVent = optimalVent.loc[(room, delT)].copy()\n",
    "    # roomAndTVent[\"A_rel\"] = np.sign(roomAndTVent[\"A\"]) * ((abs(roomAndTVent[\"A\"]) - abs(roomAndTVent[\"A\"].loc[ref_zone])) % 360)\n",
    "    roomAndTVent = roomAndTVent.reset_index()\n",
    "    roomAndTVentAll = roomAndTVentAll.add(roomAndTVent, fill_value=0)\n",
    "    plotCZMap(roomAndTVent, weights='ventAverage', colormap='YlGnBu', vmax = 2750)\n",
    "    roomAndTVent[\"Total Days\"] = 365 * 16\n",
    "    plotCZMap(roomAndTVent, weights='A', vmin=-360, vmax=360, colormap='Spectral')\n",
    "\n",
    "roomAndTVentAll /= (i + 1)\n",
    "plotCZMap(roomAndTVentAll, weights='ventAverage', colormap='YlGnBu', vmax = 1800)"
   ]
  },
  {
   "cell_type": "code",
   "execution_count": null,
   "metadata": {},
   "outputs": [],
   "source": [
    "delT = 0\n",
    "TVent = optimalVentHouse.loc[delT].copy()\n",
    "# TVent[\"A_rel\"] = np.sign(TVent[\"A\"]) * ((abs(TVent[\"A\"]) - abs(TVent[\"A\"].loc[ref_zone])) % 360)\n",
    "TVent = TVent.reset_index()\n",
    "plotCZMap(TVent, weights='ventAverage', colormap='YlGnBu', vmax=1800)\n",
    "TVent[\"Total Days\"] = 365 * 16\n",
    "plotCZMap(TVent, weights='A', vmin=-360, vmax=360, colormap='Spectral')"
   ]
  }
 ],
 "metadata": {
  "kernelspec": {
   "display_name": "pycascade",
   "language": "python",
   "name": "python3"
  },
  "language_info": {
   "codemirror_mode": {
    "name": "ipython",
    "version": 3
   },
   "file_extension": ".py",
   "mimetype": "text/x-python",
   "name": "python",
   "nbconvert_exporter": "python",
   "pygments_lexer": "ipython3",
   "version": "3.10.13"
  }
 },
 "nbformat": 4,
 "nbformat_minor": 2
}
