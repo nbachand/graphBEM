{
 "cells": [
  {
   "cell_type": "code",
   "execution_count": null,
   "metadata": {},
   "outputs": [],
   "source": [
    "%load_ext autoreload\n",
    "%autoreload 2\n",
    "%matplotlib widget\n",
    "\n",
    "import numpy as np\n",
    "import scipy as sp\n",
    "from matplotlib import pyplot as plt\n",
    "from model import BuildingSimulation as bs, BuildingGraph as bg\n",
    "from model.utils import *\n",
    "import matplotlib.colors as mcolors\n",
    "from model.WallSimulation import convectionDOE2\n",
    "from runMyBuildingMC import cleanMaterial, getConstructions, setConstructionType\n",
    "from model.WallSimulation import processMaterials\n"
   ]
  },
  {
   "cell_type": "markdown",
   "metadata": {},
   "source": [
    "## DOE-2 Convection"
   ]
  },
  {
   "cell_type": "code",
   "execution_count": null,
   "metadata": {},
   "outputs": [],
   "source": [
    "R_f = pd.Series({\n",
    "    \"Very rough\": 2.17,\n",
    "    \"Rough\": 1.67,\n",
    "    \"Medium rough\": 1.52,\n",
    "    \"Medium smooth\": 1.13,\n",
    "    \"Smooth\": 1.11,\n",
    "    \"Very smooth\": 1.00,\n",
    "})\n",
    "\n",
    "V = [0, 2, 4, 6]\n",
    "h_nat = [1, 2, 3]\n",
    "plt.figure()\n",
    "for smoothness, r_f in R_f.items():\n",
    "    for h in h_nat:\n",
    "        h_f = convectionDOE2(h, V, r_f)\n",
    "        plt.plot(V, h_f, label=f\"smoothness = {smoothness}, h_nat={h} W/m2K\") \n",
    "        print(f\"smoothness = {smoothness}, h_nat={h} W/m2K: h = {min(h_f)} to {max(h_f)}\")\n",
    "#specify legend outside of plot\n",
    "plt.legend(loc='center left', bbox_to_anchor=(1, 0.5))\n",
    "#make plot tight\n",
    "plt.tight_layout()\n",
    "xlabel = plt.xlabel(\"Wind speed (m/s)\")\n",
    "ylabel = plt.ylabel(\"Convection coefficient (W/m2K)\")\n",
    "\n"
   ]
  },
  {
   "cell_type": "markdown",
   "metadata": {},
   "source": [
    "# Checking Constructions"
   ]
  },
  {
   "cell_type": "markdown",
   "metadata": {},
   "source": [
    "## Default (bad)"
   ]
  },
  {
   "cell_type": "code",
   "execution_count": null,
   "metadata": {},
   "outputs": [],
   "source": [
    "for materialType in [\"Light\", \"Medium\", \"Heavy\"]:\n",
    "    materials = getConstructions(materialType)\n",
    "    wallMaterial = processMaterials(materials[\"wall\"], 9)\n",
    "    partitionMaterial = processMaterials(materials[\"partition\"], 9)\n",
    "    roofMaterial = processMaterials(materials[\"roof\"], 9)\n",
    "    floorMaterial = processMaterials(materials[\"floor\"], 9)\n",
    "\n",
    "    # display(f\"{materialType} materials\")\n",
    "    # display(wallMaterial)\n",
    "    # display(f\"total wall R-value in ft²-hr-°F/Btu: {wallMaterial['Thermal_Resistance'].sum() * 5.678}, U-value in W/m²K: {1 / (wallMaterial['Thermal_Resistance'].sum() * 5.678)}\")\n",
    "    # display(partitionMaterial)\n",
    "    # display(f\"total partition R-value in ft²-hr-°F/Btu: {partitionMaterial['Thermal_Resistance'].sum() * 5.678}, U-value in W/m²K: {1 / (partitionMaterial['Thermal_Resistance'].sum() * 5.678)}\")\n",
    "    # display(roofMaterial)\n",
    "    # display(f\"total roof R-value in ft²-hr-°F/Btu: {roofMaterial['Thermal_Resistance'].sum() * 5.678}, U-value in W/m²K: {1 / (roofMaterial['Thermal_Resistance'].sum() * 5.678)}\")\n",
    "    # display(floorMaterial)\n",
    "    # display(f\"total floor R-value (no soil) in ft²-hr-°F/Btu: {floorMaterial['Thermal_Resistance'].iloc[:-1].sum() * 5.678}, U-value in W/m²K: {1 / (floorMaterial['Thermal_Resistance'].iloc[:-1].sum() * 5.678)}\")"
   ]
  },
  {
   "cell_type": "markdown",
   "metadata": {},
   "source": [
    "## My Constructions (good)"
   ]
  },
  {
   "cell_type": "code",
   "execution_count": null,
   "metadata": {},
   "outputs": [],
   "source": [
    "materials = getConstructions(\"My\", constructionFile = \"energyPlus/My_Constructions.csv\")\n",
    "wallMaterial = materials[\"wall\"]\n",
    "partitionMaterial = materials[\"partition\"]\n",
    "roofMaterial = materials[\"roof\"]\n",
    "floorMaterial = materials[\"floor\"]\n",
    "\n",
    "display(wallMaterial)\n",
    "display(f\"total wall R-value in ft²-hr-°F/Btu: {wallMaterial['Thermal_Resistance'].sum() * 5.678}, U-value in W/m²K: {1 / (wallMaterial['Thermal_Resistance'].sum() * 5.678)}\")\n",
    "display(partitionMaterial)\n",
    "display(f\"total partition R-value in ft²-hr-°F/Btu: {partitionMaterial['Thermal_Resistance'].sum() * 5.678}, U-value in W/m²K: {1 / (partitionMaterial['Thermal_Resistance'].sum() * 5.678)}\")\n",
    "display(roofMaterial)\n",
    "display(f\"total roof R-value in ft²-hr-°F/Btu: {roofMaterial['Thermal_Resistance'].sum() * 5.678}, U-value in W/m²K: {1 / (roofMaterial['Thermal_Resistance'].sum() * 5.678)}\")\n",
    "display(floorMaterial)\n",
    "display(f\"total floor R-value (no soil) in ft²-hr-°F/Btu: {floorMaterial['Thermal_Resistance'].iloc[:-1].sum() * 5.678}, U-value in W/m²K: {1 / (floorMaterial['Thermal_Resistance'].iloc[:-1].sum() * 5.678)}\")"
   ]
  },
  {
   "cell_type": "code",
   "execution_count": null,
   "metadata": {},
   "outputs": [],
   "source": [
    "for materialType in [\"Light\", \"Medium\", \"Heavy\"]:\n",
    "    adjustedMaterials = setConstructionType(materials, materialType)\n",
    "    wallMaterial = adjustedMaterials[\"wall\"]\n",
    "    partitionMaterial = adjustedMaterials[\"partition\"]\n",
    "    roofMaterial = adjustedMaterials[\"roof\"]\n",
    "    floorMaterial = adjustedMaterials[\"floor\"]\n",
    "    display(wallMaterial)\n",
    "    display(f\"total wall R-value in ft²-hr-°F/Btu: {wallMaterial['Thermal_Resistance'].sum() * 5.678}, U-value in W/m²K: {1 / (wallMaterial['Thermal_Resistance'].sum() * 5.678)}\")\n",
    "    display(partitionMaterial)\n",
    "    display(f\"total partition R-value in ft²-hr-°F/Btu: {partitionMaterial['Thermal_Resistance'].sum() * 5.678}, U-value in W/m²K: {1 / (partitionMaterial['Thermal_Resistance'].sum() * 5.678)}\")\n",
    "    display(roofMaterial)\n",
    "    display(f\"total roof R-value in ft²-hr-°F/Btu: {roofMaterial['Thermal_Resistance'].sum() * 5.678}, U-value in W/m²K: {1 / (roofMaterial['Thermal_Resistance'].sum() * 5.678)}\")\n",
    "    display(floorMaterial)\n",
    "    display(f\"total floor R-value (no soil) in ft²-hr-°F/Btu: {floorMaterial['Thermal_Resistance'].iloc[:-1].sum() * 5.678}, U-value in W/m²K: {1 / (floorMaterial['Thermal_Resistance'].iloc[:-1].sum() * 5.678)}\")\n",
    "\n"
   ]
  },
  {
   "cell_type": "code",
   "execution_count": null,
   "metadata": {},
   "outputs": [],
   "source": [
    "processMaterials(floorMaterial, 9)"
   ]
  },
  {
   "cell_type": "markdown",
   "metadata": {},
   "source": [
    "## Multi Walls"
   ]
  },
  {
   "cell_type": "code",
   "execution_count": null,
   "metadata": {},
   "outputs": [],
   "source": [
    "# constructions  = pd.read_csv(\"energyPlus/ASHRAE_2005_HOF_Constructions.csv\", index_col=\"Name\")\n",
    "# materials = pd.read_csv(\"energyPlus/ASHRAE_2005_HOF_Materials.csv\", index_col=\"Name\")"
   ]
  },
  {
   "cell_type": "code",
   "execution_count": null,
   "metadata": {},
   "outputs": [],
   "source": [
    "sim_kwargs = {\n",
    "    \"delt\": 10,\n",
    "    \"simLength\": 96 * 60 * 60,\n",
    "    \"Tout\" : 288.15,\n",
    "    \"radG\": 400,\n",
    "    \"Tfloor\": None,\n",
    "}\n",
    "wall_kwargs = {\"X\": 9, \"Y\": 10, \"material_df\": wallMaterial, \"h\": WallSides(4, 4), \"absorptivity\" : 0.7, \"n\": 9}\n",
    "\n",
    "room_kwargs = {\n",
    "    \"T0\": 293.15,\n",
    "    \"V\" : 2880, #volume of air\n",
    "    \"Eint\" : 250 #internal heat generation\n",
    "}\n",
    "vent_kwargs = {\n",
    "    'H': 1,\n",
    "    'W' : 1,\n",
    "    \"ventType\": \"HWP1\",\n",
    "    \"alphas\": None,\n",
    "    \"As\": None,\n",
    "    \"Ls\": None\n",
    "}\n",
    "\n",
    "connectivityMatrix = np.array([\n",
    "    [3],\n",
    "])\n",
    "\n",
    "roomList = [\n",
    "    (\"R\", {}), #room\n",
    "    ]\n"
   ]
  },
  {
   "cell_type": "code",
   "execution_count": null,
   "metadata": {},
   "outputs": [],
   "source": [
    "bG = bg.BuildingGraph(connectivityMatrix, roomList)\n",
    "bG.updateEdges({\"wall_kwargs\" :wall_kwargs})\n",
    "bG.updateNodes({\n",
    "    \"room_kwargs\": room_kwargs,\n",
    "    \"vent_kwargs\": vent_kwargs,\n",
    "        \"rad_kwargs\": {\"solveType\": None},\n",
    "    })\n",
    "bG.draw()\n",
    "\n",
    "build_sim = bs.BuildingSimulation(**sim_kwargs)\n",
    "build_sim.initialize(bG)\n",
    "\n",
    "build_sim.run()\n",
    "\n",
    "Tints = build_sim.bG.G.nodes['R']['Tints']\n",
    "T_profs = build_sim.bG.G.edges['R', 'R']['T_profs']\n",
    "wall = build_sim.bG.G.edges['R', 'R']['wall']\n",
    "h_profs = [4, 8, 12, 16, 20]\n",
    "h_profs = [h + 48 for h in h_profs]\n",
    "# h_profs = [0, *h_profs]\n",
    "\n",
    "# Plotting\n",
    "plt.figure()\n",
    "plt.plot(build_sim.hours, Tints, label='Tint')\n",
    "plt.plot(build_sim.hours, T_profs[0, :], label='T0')\n",
    "plt.legend()\n",
    "plt.xlabel('hours')\n",
    "plt.ylabel('Temperature [K]')\n",
    "\n",
    "plt.figure()\n",
    "for h in h_profs:\n",
    "    i = int(h * 60 * 60 / build_sim.delt)\n",
    "    plt.plot(wall.x, T_profs[:, i], label=f'{h % 24} hours')\n",
    "\n",
    "plt.legend()\n",
    "plt.xlabel('x')\n",
    "plt.ylabel('Temperature [K]')\n",
    "plt.show()"
   ]
  }
 ],
 "metadata": {
  "kernelspec": {
   "display_name": "pycascade",
   "language": "python",
   "name": "python3"
  },
  "language_info": {
   "codemirror_mode": {
    "name": "ipython",
    "version": 3
   },
   "file_extension": ".py",
   "mimetype": "text/x-python",
   "name": "python",
   "nbconvert_exporter": "python",
   "pygments_lexer": "ipython3",
   "version": "3.10.13"
  }
 },
 "nbformat": 4,
 "nbformat_minor": 2
}
