{
 "cells": [
  {
   "cell_type": "code",
   "execution_count": null,
   "id": "0c007403",
   "metadata": {},
   "outputs": [],
   "source": [
    "%load_ext autoreload\n",
    "%autoreload 2\n",
    "%matplotlib widget\n",
    "\n",
    "from myBuilding import runMyBEM\n",
    "from runMyBuildingMC import getConstructions, getWeatherData, setConstructionType\n",
    "from model.WallSimulation import convectionDOE2\n",
    "import numpy as np\n",
    "import matplotlib.pyplot as plt"
   ]
  },
  {
   "cell_type": "code",
   "execution_count": null,
   "id": "5049fd69",
   "metadata": {},
   "outputs": [],
   "source": [
    "material_type = \"Heavy\"\n",
    "materials = getConstructions(\"My\", constructionFile = \"energyPlus/My_Constructions.csv\")\n",
    "chosenMaterial = setConstructionType(materials, material_type)\n",
    "chosenMaterial"
   ]
  },
  {
   "cell_type": "code",
   "execution_count": null,
   "id": "546063ba",
   "metadata": {},
   "outputs": [],
   "source": [
    "dt = 30\n",
    "chosenZone = 12\n",
    "chosenMonth = 9\n",
    "data, climate_zones = getWeatherData()\n",
    "dataSampled = data[(data[\"ClimateZone\"] == chosenZone) & (data.index.month == chosenMonth)]\n",
    "dataSampled = dataSampled.iloc[1:]\n",
    "dataSampled = dataSampled.infer_objects(copy=False)\n",
    "dataSampled = dataSampled.resample(f\"{dt}s\").interpolate()"
   ]
  },
  {
   "cell_type": "code",
   "execution_count": null,
   "id": "048d1e02",
   "metadata": {},
   "outputs": [],
   "source": [
    "plt.figure()\n",
    "plt.plot(dataSampled[\"Dry Bulb Temperature\"][1:])"
   ]
  },
  {
   "cell_type": "code",
   "execution_count": null,
   "id": "7488adbb",
   "metadata": {},
   "outputs": [],
   "source": [
    "floorTempAdjustment = np.mean([-3.5, -5])\n",
    "hInterior = np.mean([1, 3])\n",
    "alphaRoof = np.mean([0.6, 0.9])\n",
    "windSpeed = np.mean([0, 6])\n",
    "windSpeed = np.mean([0, 6])\n",
    "wallRoughness = np.mean([1.11, 2.17])\n",
    "hExterior = convectionDOE2(np.mean([1, 3]), windSpeed, wallRoughness) #using DOE-2 to calculate this"
   ]
  },
  {
   "cell_type": "code",
   "execution_count": null,
   "id": "3adb27a6",
   "metadata": {},
   "outputs": [],
   "source": [
    "runMyBEM(\n",
    "    dataSampled,\n",
    "    materials,\n",
    "    floorTempAdjustment,\n",
    "    hInterior,\n",
    "    hExterior,\n",
    "    alphaRoof,\n",
    "    verbose = True,\n",
    "    makePlots = True)"
   ]
  }
 ],
 "metadata": {
  "kernelspec": {
   "display_name": "pycascade",
   "language": "python",
   "name": "python3"
  },
  "language_info": {
   "codemirror_mode": {
    "name": "ipython",
    "version": 3
   },
   "file_extension": ".py",
   "mimetype": "text/x-python",
   "name": "python",
   "nbconvert_exporter": "python",
   "pygments_lexer": "ipython3",
   "version": "3.10.13"
  }
 },
 "nbformat": 4,
 "nbformat_minor": 5
}
