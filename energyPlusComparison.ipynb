{
 "cells": [
  {
   "cell_type": "code",
   "execution_count": null,
   "id": "0c007403",
   "metadata": {},
   "outputs": [],
   "source": [
    "%load_ext autoreload\n",
    "%autoreload 2\n",
    "%matplotlib widget\n",
    "\n",
    "from myBuilding import runMyBEM\n",
    "from runMyBuildingMC import getConstructions, getWeatherData, setConstructionType\n",
    "from model.WallSimulation import convectionDOE2\n",
    "import numpy as np\n",
    "import pandas as pd\n",
    "import matplotlib.pyplot as plt\n",
    "import seaborn as sns"
   ]
  },
  {
   "cell_type": "code",
   "execution_count": null,
   "id": "5922ee98",
   "metadata": {},
   "outputs": [],
   "source": [
    "chosenZone = 9\n",
    "chosenMonth = 8\n",
    "data, climate_zones = getWeatherData()"
   ]
  },
  {
   "cell_type": "markdown",
   "id": "0d9a52b8",
   "metadata": {},
   "source": [
    "## Energy Plus"
   ]
  },
  {
   "cell_type": "code",
   "execution_count": null,
   "id": "77a35808",
   "metadata": {},
   "outputs": [],
   "source": [
    "dirEP = \"/Users/nicholasbachand/codes/plan2EPlus/cases/graphbem_cali\"\n",
    "pathEP = f\"{dirEP}/{climate_zones[chosenZone]['WeatherFile']}/surface_data.csv\"\n",
    "print(f\"Querying EnergyPlus results for zone {chosenZone} and month {chosenMonth} at {pathEP}\")\n",
    "outputsEP = pd.read_csv(pathEP, index_col=\"datetimes\", parse_dates=True)\n",
    "outputsEP.index = outputsEP.index.map(lambda dt: dt.replace(year=2008))\n",
    "print(f\"Energy plus outputs: {outputsEP.columns.tolist()}\")\n",
    "\n",
    "for key in outputsEP.keys():\n",
    "    if \"temperature\" in key.lower():\n",
    "        outputsEP[key] += 273.15\n",
    "\n",
    "outputsEP"
   ]
  },
  {
   "cell_type": "code",
   "execution_count": null,
   "id": "07514517",
   "metadata": {},
   "outputs": [],
   "source": [
    "plt.figure(figsize=(10, 6))\n",
    "sns.lineplot(\n",
    "    data=outputsEP,\n",
    "    x='datetimes',\n",
    "    y='Surface Inside Face Adjacent Air Temperature',\n",
    "    hue = \"zone\",\n",
    "    estimator=None\n",
    ")\n",
    "\n",
    "sns.lineplot(\n",
    "    data=outputsEP,\n",
    "    x='datetimes',\n",
    "    y='Surface Outside Face Outdoor Air Drybulb Temperature',\n",
    "    label=f'outside air temp',\n",
    "    linestyle=':',\n",
    "    color='black',\n",
    "    estimator=None\n",
    ")\n",
    "plt.tight_layout()"
   ]
  },
  {
   "cell_type": "code",
   "execution_count": null,
   "id": "893a6a51",
   "metadata": {},
   "outputs": [],
   "source": [
    "quants = [\n",
    "    \"Convection Heat Transfer Coefficient\", \n",
    "    \"Face Temperature\", \n",
    "    \"Radiation Rate per Area\"\n",
    "]\n",
    "is_exterior = True\n",
    "for quant in quants:\n",
    "    keys = []\n",
    "    for key in outputsEP.keys():\n",
    "        if quant in key:\n",
    "            keys.append(key)\n",
    "\n",
    "    n_keys = len(keys)\n",
    "    fig, ax = plt.subplots(n_keys, figsize=(10, 3*n_keys), sharex=True)\n",
    "    ax = ax.flatten() if n_keys > 1 else [ax]\n",
    "    for i, key in enumerate(keys):\n",
    "        sns.lineplot(\n",
    "            data=outputsEP[outputsEP['is_exterior'] == is_exterior],\n",
    "            x='datetimes',\n",
    "            y=key,\n",
    "            estimator=None,\n",
    "            hue=\"direction\",\n",
    "            style=\"zone\",\n",
    "            ax=ax[i]\n",
    "        )\n",
    "        ax[i].set_title(key)\n",
    "        ax[i].set_ylabel(\"\")\n",
    "    plt.tight_layout()"
   ]
  },
  {
   "cell_type": "markdown",
   "id": "c27551dc",
   "metadata": {},
   "source": [
    "## Graph BEM"
   ]
  },
  {
   "cell_type": "code",
   "execution_count": null,
   "id": "5049fd69",
   "metadata": {},
   "outputs": [],
   "source": [
    "material_type = \"Heavy\"\n",
    "materials = getConstructions(\"My\", constructionFile = \"energyPlus/My_Constructions.csv\")\n",
    "chosenMaterial = setConstructionType(materials, material_type)\n",
    "chosenMaterial"
   ]
  },
  {
   "cell_type": "code",
   "execution_count": null,
   "id": "546063ba",
   "metadata": {},
   "outputs": [],
   "source": [
    "dt = 30\n",
    "dataSampled = data[(data[\"ClimateZone\"] == chosenZone) & (data.index.month == chosenMonth)]\n",
    "dataSampled = dataSampled.iloc[1:]\n",
    "dataSampled = dataSampled.infer_objects(copy=False)\n",
    "dataSampled = dataSampled.resample(f\"{dt}s\").interpolate()"
   ]
  },
  {
   "cell_type": "code",
   "execution_count": null,
   "id": "35b6101e",
   "metadata": {},
   "outputs": [],
   "source": [
    "dataSampled[\"Dry Bulb Temperature\"][1:]"
   ]
  },
  {
   "cell_type": "code",
   "execution_count": null,
   "id": "048d1e02",
   "metadata": {},
   "outputs": [],
   "source": [
    "plt.figure(figsize=(10, 6))\n",
    "sns.lineplot(\n",
    "    data=outputsEP,\n",
    "    x='datetimes',\n",
    "    y='Surface Outside Face Outdoor Air Drybulb Temperature',\n",
    "    label='EP Outside Air Temp',\n",
    "    estimator=None\n",
    ")"
   ]
  },
  {
   "cell_type": "code",
   "execution_count": null,
   "id": "7488adbb",
   "metadata": {},
   "outputs": [],
   "source": [
    "floorTempAdjustment = np.mean([-3.5, -5])\n",
    "hInterior = np.mean([1, 3])\n",
    "alphaRoof = np.mean([0.6, 0.9])\n",
    "windSpeed = np.mean([0, 6])\n",
    "windSpeed = np.mean([0, 6])\n",
    "wallRoughness = np.mean([1.11, 2.17])\n",
    "hExterior = convectionDOE2(np.mean([1, 3]), windSpeed, wallRoughness) #using DOE-2 to calculate this"
   ]
  },
  {
   "cell_type": "code",
   "execution_count": null,
   "id": "3adb27a6",
   "metadata": {},
   "outputs": [],
   "source": [
    "outputsGraphBEM = runMyBEM(\n",
    "    dataSampled,\n",
    "    materials,\n",
    "    floorTempAdjustment,\n",
    "    hInterior,\n",
    "    hExterior,\n",
    "    alphaRoof,\n",
    "    verbose = True,\n",
    "    makePlots = True)"
   ]
  },
  {
   "cell_type": "code",
   "execution_count": null,
   "id": "4428190e",
   "metadata": {},
   "outputs": [],
   "source": [
    "outputsGraphBEM[\"ceilingMinusFloor\"]"
   ]
  }
 ],
 "metadata": {
  "kernelspec": {
   "display_name": "pycascade",
   "language": "python",
   "name": "python3"
  },
  "language_info": {
   "codemirror_mode": {
    "name": "ipython",
    "version": 3
   },
   "file_extension": ".py",
   "mimetype": "text/x-python",
   "name": "python",
   "nbconvert_exporter": "python",
   "pygments_lexer": "ipython3",
   "version": "3.10.13"
  }
 },
 "nbformat": 4,
 "nbformat_minor": 5
}
