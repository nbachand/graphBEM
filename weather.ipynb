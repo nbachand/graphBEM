{
 "cells": [
  {
   "cell_type": "code",
   "execution_count": null,
   "metadata": {},
   "outputs": [],
   "source": [
    "%load_ext autoreload\n",
    "%autoreload 2\n",
    "%matplotlib widget\n",
    "\n",
    "from matplotlib import pyplot as plt\n",
    "import pandas as pd\n",
    "import plotly.express as px\n",
    "from energyPlus.weather.weather import *"
   ]
  },
  {
   "cell_type": "code",
   "execution_count": null,
   "metadata": {},
   "outputs": [],
   "source": [
    "data, meta, climate_zones = getWeatherData()\n",
    "#change year to 2000 for all datetimes in index\n",
    "data.index = data.index.map(lambda x: x.replace(year=2000))\n",
    "data.keys()"
   ]
  },
  {
   "cell_type": "code",
   "execution_count": null,
   "metadata": {},
   "outputs": [],
   "source": [
    "fig, ax = plt.subplots()\n",
    "for zone in climate_zones:\n",
    "    zoneData = data[data[\"ClimateZone\"]==zone]\n",
    "    ax.plot(zoneData.index, zoneData[\"temp_air\"], label=zone)\n",
    "ax.legend()"
   ]
  },
  {
   "cell_type": "code",
   "execution_count": null,
   "metadata": {},
   "outputs": [],
   "source": [
    "poa = getRadData(data, meta, tilts=[0], azimuths=[0])\n",
    "\n",
    "# Plot every column in the poa DataFrame\n",
    "plt.figure(figsize=(10, 6))\n",
    "for column in poa.columns:\n",
    "    plt.plot(poa.index, poa[column], label=column)\n",
    "\n",
    "plt.legend(loc='upper left', bbox_to_anchor=(1, 1))\n",
    "plt.xlabel('Time')\n",
    "plt.ylabel('Irradiance on Horizontal Surface')\n",
    "plt.title('POA Irradiance for All Columns')\n",
    "plt.tight_layout()\n",
    "plt.show()\n"
   ]
  },
  {
   "cell_type": "code",
   "execution_count": null,
   "metadata": {},
   "outputs": [],
   "source": [
    "poa = getRadData(data, meta, tilts=[90], azimuths=range(0, 360, 5))\n",
    "\n",
    "# Plot every column in the poa DataFrame\n",
    "plt.figure(figsize=(10, 6))\n",
    "for column in poa.columns:\n",
    "    plt.plot(poa.index, poa[column], label=column)\n",
    "\n",
    "plt.legend(loc='upper left', bbox_to_anchor=(1, 1))\n",
    "plt.xlabel('Time')\n",
    "plt.ylabel('Irradiance on Average Vertical Surface')\n",
    "plt.title('POA Irradiance for All Columns')\n",
    "plt.tight_layout()\n",
    "plt.show()"
   ]
  },
  {
   "cell_type": "code",
   "execution_count": null,
   "metadata": {},
   "outputs": [],
   "source": [
    "chosenWeatherProperties = {}\n",
    "chosenData = []\n",
    "toPlot = True\n",
    "N = 10000\n",
    "n = 0\n",
    "for n in range(N):\n",
    "    weatherProperties, dataSampled = sampleVentWeather(data, climate_zones, runDays=7, dt=3600, plot=toPlot, coolingThreshold=24, coolingDegBase=21, keep=\"CDDs\")\n",
    "    for key, value in weatherProperties.items():\n",
    "        if n == 0:\n",
    "            chosenWeatherProperties[key] = [value]\n",
    "        else:\n",
    "            chosenWeatherProperties[key].append(value)\n",
    "    chosenData.append(dataSampled)\n",
    "    toPlot = False\n"
   ]
  },
  {
   "cell_type": "code",
   "execution_count": null,
   "metadata": {},
   "outputs": [],
   "source": [
    "weather = pd.DataFrame(chosenWeatherProperties)\n",
    "weather.columns = [\"Climate Zone\", \"Month\", \"CDDs\", \"NCDDs\", \"Average Wind Speed [m/s]\", \"Days Checked\"]\n",
    "weather[\"Total Days\"] = weather[\"Days Checked\"].sum()\n",
    "print(weather[\"Total Days\"].values[0])\n",
    "\n",
    "weights = None\n",
    "plotWeatherHists(weather, weights, [\"Month\", \"Average Wind Speed [m/s]\"])\n",
    "plotWeatherHists(weather, weights, [\"CDDs\", \"NCDDs\"])\n",
    "plotWeatherHists(weather, weights, [\"Climate Zone\", \"Days Checked\"])"
   ]
  },
  {
   "cell_type": "code",
   "execution_count": null,
   "metadata": {},
   "outputs": [],
   "source": [
    "plotWeatherHists(weather, 'CDDs', [\"Month\", \"Average Wind Speed [m/s]\"], yearScaling = 52.1429 / weather.shape[0])\n",
    "plotWeatherHists(weather, 'NCDDs', [\"Month\", \"Average Wind Speed [m/s]\"], yearScaling = 52.1429 / weather.shape[0])"
   ]
  },
  {
   "cell_type": "code",
   "execution_count": null,
   "metadata": {},
   "outputs": [],
   "source": [
    "plotCZMap(weather, weights=\"NCDDs\", vmax=None, colormap = \"PuBu\")\n",
    "plotCZMap(weather, weights=\"CDDs\", vmax=1800, colormap = \"PuBu\")"
   ]
  }
 ],
 "metadata": {
  "kernelspec": {
   "display_name": "graphBEM",
   "language": "python",
   "name": "python3"
  },
  "language_info": {
   "codemirror_mode": {
    "name": "ipython",
    "version": 3
   },
   "file_extension": ".py",
   "mimetype": "text/x-python",
   "name": "python",
   "nbconvert_exporter": "python",
   "pygments_lexer": "ipython3",
   "version": "3.13.5"
  }
 },
 "nbformat": 4,
 "nbformat_minor": 2
}
