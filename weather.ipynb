{
 "cells": [
  {
   "cell_type": "code",
   "execution_count": null,
   "metadata": {},
   "outputs": [],
   "source": [
    "%load_ext autoreload\n",
    "%autoreload 2\n",
    "%matplotlib widget\n",
    "\n",
    "from epw import epw\n",
    "from matplotlib import pyplot as plt\n",
    "import pandas as pd\n",
    "import numpy as np\n",
    "import scipy as sp\n",
    "import plotly.express as px\n",
    "import random\n",
    "import seaborn as sns\n",
    "from energyPlus.weather.weather import *"
   ]
  },
  {
   "cell_type": "code",
   "execution_count": null,
   "metadata": {},
   "outputs": [],
   "source": [
    "data, climate_zones = getWeatherData()"
   ]
  },
  {
   "cell_type": "code",
   "execution_count": null,
   "metadata": {},
   "outputs": [],
   "source": [
    "fig, ax = plt.subplots()\n",
    "for zone in climate_zones:\n",
    "    zoneData = data[data[\"ClimateZone\"]==zone]\n",
    "    ax.plot(zoneData.index, zoneData[\"Dry Bulb Temperature\"], label=zone)\n",
    "ax.legend()"
   ]
  },
  {
   "cell_type": "code",
   "execution_count": null,
   "metadata": {},
   "outputs": [],
   "source": [
    "chosenWeatherProperties = {}\n",
    "chosenData = []\n",
    "toPlot = True\n",
    "N = 10000\n",
    "n = 0\n",
    "for n in range(N):\n",
    "    weatherProperties, dataSampled = sampleVentWeather(data, climate_zones, runDays=7, dt=3600, plot=toPlot, coolingThreshold=24, coolingDegBase=21, keep=\"CDDs\")\n",
    "    for key, value in weatherProperties.items():\n",
    "        if n == 0:\n",
    "            chosenWeatherProperties[key] = [value]\n",
    "        else:\n",
    "            chosenWeatherProperties[key].append(value)\n",
    "    chosenData.append(dataSampled)\n",
    "    toPlot = False\n"
   ]
  },
  {
   "cell_type": "code",
   "execution_count": null,
   "metadata": {},
   "outputs": [],
   "source": [
    "weather = pd.DataFrame(chosenWeatherProperties)\n",
    "weather.columns = [\"Climate Zone\", \"Month\", \"CDDs\", \"NCDDs\", \"Average Wind Speed [m/s]\", \"Days Checked\"]\n",
    "weather[\"Total Days\"] = weather[\"Days Checked\"].sum()\n",
    "print(weather[\"Total Days\"].values[0])\n",
    "\n",
    "weights = None\n",
    "plotWeatherHists(weather, weights, [\"Month\", \"Average Wind Speed [m/s]\"])\n",
    "plotWeatherHists(weather, weights, [\"CDDs\", \"NCDDs\"])\n",
    "plotWeatherHists(weather, weights, [\"Climate Zone\", \"Days Checked\"])"
   ]
  },
  {
   "cell_type": "code",
   "execution_count": null,
   "metadata": {},
   "outputs": [],
   "source": [
    "plotWeatherHists(weather, 'CDDs', [\"Month\", \"Average Wind Speed [m/s]\"], yearScaling = 52.1429 / weather.shape[0])\n",
    "plotWeatherHists(weather, 'NCDDs', [\"Month\", \"Average Wind Speed [m/s]\"], yearScaling = 52.1429 / weather.shape[0])"
   ]
  },
  {
   "cell_type": "code",
   "execution_count": null,
   "metadata": {},
   "outputs": [],
   "source": [
    "plotCZMap(weather, weights=\"NCDDs\", vmax=None, colormap = \"PuBu\")\n",
    "plotCZMap(weather, weights=\"CDDs\", vmax=1800, colormap = \"PuBu\")"
   ]
  },
  {
   "cell_type": "code",
   "execution_count": null,
   "metadata": {},
   "outputs": [],
   "source": [
    "radiation_keys = [\"Extraterrestrial Horizontal Radiation\",\n",
    "    \"Extraterrestrial Direct Normal Radiation\" ,\n",
    "    \"Horizontal Infrared Radiation Intensity\" ,\n",
    "    \"Global Horizontal Radiation\" ,\n",
    "    \"Direct Normal Radiation\" ,\n",
    "    \"Diffuse Horizontal Radiation\" ]\n",
    "fig = px.line(data, x = data.index, y = radiation_keys)\n",
    "fig.show()"
   ]
  },
  {
   "cell_type": "code",
   "execution_count": null,
   "metadata": {},
   "outputs": [],
   "source": [
    "fig = px.line(data, x = data.index, y = [\n",
    "    \"Horizontal Infrared Radiation Intensity\",\n",
    "    \"Global Horizontal Radiation\",\n",
    "    \"Total Sky Radiation\",\n",
    "    ])\n",
    "fig.show()\n",
    "\n",
    "fig = px.line(data, x = data.index, y = [\n",
    "    \"Equivalent Sky Temperature\",\n",
    "    \"Dry Bulb Temperature\",\n",
    "    ])\n",
    "fig.show()"
   ]
  }
 ],
 "metadata": {
  "kernelspec": {
   "display_name": "pycascade",
   "language": "python",
   "name": "python3"
  },
  "language_info": {
   "codemirror_mode": {
    "name": "ipython",
    "version": 3
   },
   "file_extension": ".py",
   "mimetype": "text/x-python",
   "name": "python",
   "nbconvert_exporter": "python",
   "pygments_lexer": "ipython3",
   "version": "3.10.13"
  }
 },
 "nbformat": 4,
 "nbformat_minor": 2
}
